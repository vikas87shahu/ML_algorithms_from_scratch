{
 "cells": [
  {
   "cell_type": "code",
   "execution_count": 2,
   "id": "00c61ec1",
   "metadata": {},
   "outputs": [
    {
     "name": "stdout",
     "output_type": "stream",
     "text": [
      "[(0, 0), (0, 1), (1, 0), (1, 1)]\n"
     ]
    }
   ],
   "source": [
    "xor_table = [(0,0),(0,1),(1,0),(1,1)]\n",
    "output = [0,1,1,0]\n",
    "print(xor_table)\n",
    "bias = [1,1,1,1]"
   ]
  },
  {
   "cell_type": "code",
   "execution_count": 3,
   "id": "0876ddab",
   "metadata": {},
   "outputs": [],
   "source": [
    "for i in range(len(output)):\n",
    "    output[i] = output[i]+bias[i] "
   ]
  },
  {
   "cell_type": "code",
   "execution_count": 4,
   "id": "e27c6d62",
   "metadata": {},
   "outputs": [
    {
     "name": "stdout",
     "output_type": "stream",
     "text": [
      "[]\n"
     ]
    }
   ],
   "source": [
    "matrix_rbf = [[],[],[],[]]\n",
    "print(matrix_rbf[0])"
   ]
  },
  {
   "cell_type": "code",
   "execution_count": 5,
   "id": "de6f475f",
   "metadata": {},
   "outputs": [],
   "source": [
    "import math as m"
   ]
  },
  {
   "cell_type": "code",
   "execution_count": 6,
   "id": "3c11388e",
   "metadata": {},
   "outputs": [],
   "source": [
    "for index,i in enumerate(xor_table):\n",
    "    for j in xor_table:\n",
    "        x1,x2 = i[0],i[1]\n",
    "        t1,t2 = j[0],j[1]\n",
    "        matrix_rbf[index].append(round(m.exp(-(((x1-t1)**2)+(x2-t2)**2)/2),2))\n",
    "#         print(round(m.exp(-(((x1-t1)**2)+(x2-t2)**2)/2),2))"
   ]
  },
  {
   "cell_type": "code",
   "execution_count": 7,
   "id": "5f664686",
   "metadata": {},
   "outputs": [
    {
     "data": {
      "text/plain": [
       "[[1.0, 0.61, 0.61, 0.37],\n",
       " [0.61, 1.0, 0.37, 0.61],\n",
       " [0.61, 0.37, 1.0, 0.61],\n",
       " [0.37, 0.61, 0.61, 1.0]]"
      ]
     },
     "execution_count": 7,
     "metadata": {},
     "output_type": "execute_result"
    }
   ],
   "source": [
    "matrix_rbf"
   ]
  },
  {
   "cell_type": "code",
   "execution_count": 8,
   "id": "df602028",
   "metadata": {},
   "outputs": [],
   "source": [
    "weights_matrix=[-1,1,1,-1]\n"
   ]
  },
  {
   "cell_type": "code",
   "execution_count": 9,
   "id": "e2dd93bf",
   "metadata": {},
   "outputs": [],
   "source": [
    "for i in range(len(matrix_rbf)):\n",
    "    for j in range(len(matrix_rbf[0])):\n",
    "        matrix_rbf[i][j] = matrix_rbf[i][j]*weights_matrix[j]"
   ]
  },
  {
   "cell_type": "code",
   "execution_count": 10,
   "id": "d0083c9c",
   "metadata": {},
   "outputs": [
    {
     "data": {
      "text/plain": [
       "[[-1.0, 0.61, 0.61, -0.37],\n",
       " [-0.61, 1.0, 0.37, -0.61],\n",
       " [-0.61, 0.37, 1.0, -0.61],\n",
       " [-0.37, 0.61, 0.61, -1.0]]"
      ]
     },
     "execution_count": 10,
     "metadata": {},
     "output_type": "execute_result"
    }
   ],
   "source": [
    "matrix_rbf"
   ]
  },
  {
   "cell_type": "code",
   "execution_count": 11,
   "id": "902cf7b9",
   "metadata": {},
   "outputs": [],
   "source": [
    "# for i in range(len(matrix_rbf)):\n",
    "#     matrix_rbf[i].append(bias[i])\n",
    "    "
   ]
  },
  {
   "cell_type": "code",
   "execution_count": 12,
   "id": "fdd716eb",
   "metadata": {},
   "outputs": [
    {
     "data": {
      "text/plain": [
       "[[-1.0, 0.61, 0.61, -0.37],\n",
       " [-0.61, 1.0, 0.37, -0.61],\n",
       " [-0.61, 0.37, 1.0, -0.61],\n",
       " [-0.37, 0.61, 0.61, -1.0]]"
      ]
     },
     "execution_count": 12,
     "metadata": {},
     "output_type": "execute_result"
    }
   ],
   "source": [
    "matrix_rbf"
   ]
  },
  {
   "cell_type": "code",
   "execution_count": 14,
   "id": "40c11c87",
   "metadata": {},
   "outputs": [
    {
     "data": {
      "text/plain": [
       "[1, 2, 2, 1]"
      ]
     },
     "execution_count": 14,
     "metadata": {},
     "output_type": "execute_result"
    }
   ],
   "source": [
    "output"
   ]
  },
  {
   "cell_type": "code",
   "execution_count": 13,
   "id": "ef2ffe05",
   "metadata": {},
   "outputs": [
    {
     "data": {
      "text/plain": [
       "array([2.75418275, 3.91248391, 3.91248391, 2.75418275])"
      ]
     },
     "execution_count": 13,
     "metadata": {},
     "output_type": "execute_result"
    }
   ],
   "source": [
    "import numpy as np\n",
    "np.linalg.inv(matrix_rbf).dot(output)"
   ]
  },
  {
   "cell_type": "code",
   "execution_count": null,
   "id": "b4740298",
   "metadata": {},
   "outputs": [],
   "source": []
  }
 ],
 "metadata": {
  "kernelspec": {
   "display_name": "Python 3 (ipykernel)",
   "language": "python",
   "name": "python3"
  },
  "language_info": {
   "codemirror_mode": {
    "name": "ipython",
    "version": 3
   },
   "file_extension": ".py",
   "mimetype": "text/x-python",
   "name": "python",
   "nbconvert_exporter": "python",
   "pygments_lexer": "ipython3",
   "version": "3.9.7"
  }
 },
 "nbformat": 4,
 "nbformat_minor": 5
}
