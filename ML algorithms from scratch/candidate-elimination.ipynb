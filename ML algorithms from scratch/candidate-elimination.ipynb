{
 "cells": [
  {
   "cell_type": "code",
   "execution_count": 1,
   "metadata": {
    "id": "6zkxeu0JsYRC"
   },
   "outputs": [],
   "source": [
    "data = [\n",
    "        ['sky','temp','humidity','wind','water','forecast','enjoy_sport'],\n",
    "        ['sunny','warm','normal','strong','warm','same','yes'],\n",
    "        ['sunny','warm','high','strong','warm','same','yes'],\n",
    "        ['rainy','cold','high','strong','warm','change','no'],\n",
    "        ['sunny','warm','high','strong','cool','change','yes']\n",
    "        ]"
   ]
  },
  {
   "cell_type": "markdown",
   "metadata": {
    "id": "yzXzrg-1us2z"
   },
   "source": [
    "**FIND S Algorithm**"
   ]
  },
  {
   "cell_type": "code",
   "execution_count": 2,
   "metadata": {
    "colab": {
     "base_uri": "https://localhost:8080/"
    },
    "id": "laaQNmzAtfMc",
    "outputId": "2a9a1d91-12d3-4b1c-8c1c-572fb3e89808"
   },
   "outputs": [
    {
     "name": "stdout",
     "output_type": "stream",
     "text": [
      "['sunny', 'warm', '?', 'strong', '?', '?']\n"
     ]
    }
   ],
   "source": [
    "\n",
    "hypothesis = [0,0,0,0,0,0]\n",
    "for row in data[1:]:\n",
    "  if row[-1]=='yes':\n",
    "    for i in range(6):\n",
    "      if hypothesis[i]==0:\n",
    "        hypothesis[i]=row[i]\n",
    "      elif hypothesis[i]!=row[i]:\n",
    "        hypothesis[i]='?'\n",
    "print(hypothesis)"
   ]
  },
  {
   "cell_type": "markdown",
   "metadata": {
    "id": "9veRnr6BuzAp"
   },
   "source": [
    "**CANDIDATE ELIMINATION Algorithm**"
   ]
  },
  {
   "cell_type": "code",
   "execution_count": 3,
   "metadata": {
    "colab": {
     "base_uri": "https://localhost:8080/"
    },
    "id": "uumAxjAmuIlO",
    "outputId": "2c360e73-c83d-4cfd-9191-7ac5a0cc08b5"
   },
   "outputs": [
    {
     "name": "stdout",
     "output_type": "stream",
     "text": [
      "('?', 'warm', '?', '?', '?', '?')\n",
      "('?', 'warm', '?', 'strong', '?', '?')\n",
      "('sunny', '?', '?', '?', '?', '?')\n",
      "('sunny', '?', '?', 'strong', '?', '?')\n",
      "('sunny', 'warm', '?', '?', '?', '?')\n",
      "('sunny', 'warm', '?', 'strong', '?', '?')\n"
     ]
    }
   ],
   "source": [
    "\n",
    "s = [0,0,0,0,0,0]\n",
    "g = []\n",
    "for row in data[1:]:\n",
    "  if row[-1]=='yes':\n",
    "    for i in range(6):\n",
    "      if s[i]==0:\n",
    "        s[i]=row[i]\n",
    "      elif s[i]!=row[i]:\n",
    "        s[i]='?'\n",
    "    newg = []\n",
    "    for i in range(len(g)):\n",
    "      flag=0\n",
    "      for j in range(6):\n",
    "        if g[i][j]!='?' and g[i][j]!=s[i]:\n",
    "          flag=1\n",
    "          break\n",
    "      if flag==0:\n",
    "        newg.append(g[i])\n",
    "    g=newg\n",
    "  else:\n",
    "    newg = []\n",
    "    for i in range(6):\n",
    "      if s[i]!='?' and row[i]!=s[i]:\n",
    "        t = ['?']*6\n",
    "        t[i]=s[i]\n",
    "        newg.append(t)\n",
    "    g = newg\n",
    "\n",
    "\n",
    "\n",
    "all_possible_hypothesis = [s]\n",
    "for i in range(len(s)):\n",
    "  if s[i]!='?':\n",
    "    for x in g:\n",
    "      if x[i]==s[i]:\n",
    "        for i in range(6):\n",
    "          if s[i]!='?':\n",
    "            new = [y for y in x]\n",
    "            new[i]=s[i]\n",
    "            all_possible_hypothesis.append(new)\n",
    "all_possible_hypothesis.extend(g)\n",
    "all_possible_hypothesis = [tuple(x) for x in all_possible_hypothesis]\n",
    "all_possible_hypothesis = list(set(all_possible_hypothesis))\n",
    "all_possible_hypothesis.sort()\n",
    "for x in all_possible_hypothesis:\n",
    "  print(x)"
   ]
  },
  {
   "cell_type": "code",
   "execution_count": null,
   "metadata": {
    "id": "xTN9J2603ZzI"
   },
   "outputs": [],
   "source": []
  },
  {
   "cell_type": "code",
   "execution_count": null,
   "metadata": {
    "id": "hX0XYjf67Ugh"
   },
   "outputs": [],
   "source": []
  }
 ],
 "metadata": {
  "colab": {
   "collapsed_sections": [],
   "name": "A-14_ML-LAB_practical1.ipynb",
   "provenance": []
  },
  "kernelspec": {
   "display_name": "Python 3 (ipykernel)",
   "language": "python",
   "name": "python3"
  },
  "language_info": {
   "codemirror_mode": {
    "name": "ipython",
    "version": 3
   },
   "file_extension": ".py",
   "mimetype": "text/x-python",
   "name": "python",
   "nbconvert_exporter": "python",
   "pygments_lexer": "ipython3",
   "version": "3.9.7"
  }
 },
 "nbformat": 4,
 "nbformat_minor": 1
}
